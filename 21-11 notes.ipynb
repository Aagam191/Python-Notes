{
 "cells": [
  {
   "cell_type": "markdown",
   "metadata": {},
   "source": [
    "#### starting with any position number replace the number by the sum of square of its digit and repeat the process until the numer either equals 1 or it loops endlessly which does not include 1\n"
   ]
  },
  {
   "cell_type": "code",
   "execution_count": 11,
   "metadata": {},
   "outputs": [
    {
     "name": "stdout",
     "output_type": "stream",
     "text": [
      "49\n",
      "97\n",
      "130\n",
      "10\n",
      "1\n"
     ]
    }
   ],
   "source": [
    "num=int(input(\"Enter number to be happy\"))\n",
    "temp=num\n",
    "sum=0\n",
    "\n",
    "while(sum!=1 and sum!=4):\n",
    "    sum=0\n",
    "    while(temp>0):\n",
    "        r=int(temp%10)\n",
    "        sum=sum+r*r\n",
    "        temp=int(temp/10)\n",
    "    temp=sum\n",
    "    print(sum)\n",
    "\n",
    "    "
   ]
  },
  {
   "cell_type": "markdown",
   "metadata": {},
   "source": [
    "## Ramanujan Number\n"
   ]
  },
  {
   "cell_type": "code",
   "execution_count": null,
   "metadata": {},
   "outputs": [],
   "source": []
  },
  {
   "cell_type": "code",
   "execution_count": 17,
   "metadata": {},
   "outputs": [
    {
     "name": "stdout",
     "output_type": "stream",
     "text": [
      "                                                  \n",
      "                                                1   \n",
      "                                              1   1   \n",
      "                                            1   2   1   \n",
      "                                          1   3   3   1   \n",
      "                                        1   4   6   4   1   \n",
      "                                      1   5   10   10   5   1   \n",
      "                                    1   6   15   20   15   6   1   \n",
      "                                  1   7   21   35   35   21   7   1   \n",
      "                                1   8   28   56   70   56   28   8   1   \n",
      "                              1   9   36   84   126   126   84   36   9   1   \n",
      "                            1   10   45   120   210   252   210   120   45   10   1   \n",
      "                          1   11   55   165   330   462   462   330   165   55   11   1   \n",
      "                        1   12   66   220   495   792   924   792   495   220   66   12   1   \n",
      "                      1   13   78   286   715   1287   1716   1716   1287   715   286   78   13   1   \n",
      "                    1   14   91   364   1001   2002   3003   3432   3003   2002   1001   364   91   14   1   \n",
      "                  1   15   105   455   1365   3003   5005   6435   6435   5005   3003   1365   455   105   15   1   \n",
      "                1   16   120   560   1820   4368   8008   11440   12870   11440   8008   4368   1820   560   120   16   1   \n",
      "              1   17   136   680   2380   6188   12376   19448   24310   24310   19448   12376   6188   2380   680   136   17   1   \n",
      "            1   18   153   816   3060   8568   18564   31824   43758   48620   43758   31824   18564   8568   3060   816   153   18   1   \n",
      "          1   19   171   969   3876   11628   27132   50388   75582   92378   92378   75582   50388   27132   11628   3876   969   171   19   1   \n",
      "        1   20   190   1140   4845   15504   38760   77520   125970   167960   184756   167960   125970   77520   38760   15504   4845   1140   190   20   1   \n",
      "      1   21   210   1330   5985   20349   54264   116280   203490   293930   352716   352716   293930   203490   116280   54264   20349   5985   1330   210   21   1   \n",
      "    1   22   231   1540   7315   26334   74613   170544   319770   497420   646646   705432   646646   497420   319770   170544   74613   26334   7315   1540   231   22   1   \n",
      "  1   23   253   1771   8855   33649   100947   245157   490314   817190   1144066   1352078   1352078   1144066   817190   490314   245157   100947   33649   8855   1771   253   23   1   \n",
      "1   24   276   2024   10626   42504   134596   346104   735471   1307504   1961256   2496144   2704156   2496144   1961256   1307504   735471   346104   134596   42504   10626   2024   276   24   1   \n"
     ]
    }
   ],
   "source": [
    "def solve(n):\n",
    "    for i in range(n+1):\n",
    "        for j in range(n-i):\n",
    "            print(' ',end=\" \")\n",
    "        c=1\n",
    "        for j in range(1,i+1):\n",
    "            print(c,' ',sep=' ',end=\" \")\n",
    "            c=c*(i-j)//j\n",
    "        print()\n",
    "\n",
    "n=25\n",
    "solve(n)"
   ]
  },
  {
   "cell_type": "markdown",
   "metadata": {},
   "source": [
    "## Qb191\n",
    "Wap that enters a single digit integer number and produces all possible six digit combination number which is product of that digits is equal to the entered number"
   ]
  },
  {
   "cell_type": "code",
   "execution_count": null,
   "metadata": {},
   "outputs": [],
   "source": [
    "def find_numbers(product):\n",
    "    for a in range(1, 10):\n",
    "        for b in range(0, 10):\n",
    "            for c in range(0, 10):\n",
    "                for d in range(0, 10):\n",
    "                    for e in range(0, 10):\n",
    "                        for f in range(0, 10):\n",
    "                            if a * b * c * d * e * f == product:\n",
    "                                print(a * 100000 + b * 10000 + c * 1000 + d * 100 + e * 10 + f)\n",
    "\n",
    "# Get user input\n",
    "entered_number = int(input(\"Enter a single digit integer number: \"))\n",
    "\n",
    "if 0 <= entered_number <= 9:\n",
    "    print(f\"All possible 6-digit numbers for which the product of their digits is {entered_number}:\")\n",
    "    find_numbers(entered_number)\n",
    "else:\n",
    "    print(\"Please enter a single digit integer.\")\n"
   ]
  },
  {
   "cell_type": "markdown",
   "metadata": {},
   "source": [
    "Newton method "
   ]
  },
  {
   "cell_type": "code",
   "execution_count": null,
   "metadata": {},
   "outputs": [],
   "source": [
    "def newton_sqrt(x, num_iterations):\n",
    "    guess = x / 2  # Initial guess\n",
    "\n",
    "    for _ in range(num_iterations):\n",
    "        guess = (guess + x / guess) / 2\n",
    "\n",
    "    return guess\n",
    "\n",
    "# Prompt user for input\n",
    "x = float(input(\"Enter a number to find the square root of: \"))\n",
    "num_iterations = int(input(\"Enter the number of iterations for Newton's Method: \"))\n",
    "\n",
    "# Check for valid input\n",
    "if x < 0 or num_iterations <= 0:\n",
    "    print(\"Please enter a positive number and a positive number of iterations.\")\n",
    "else:\n",
    "    # Compute square root using Newton's Method\n",
    "    result = newton_sqrt(x, num_iterations)\n",
    "    print(f\"The square root of {x} using Newton's Method after {num_iterations} iterations is approximately: {result:.6f}\")"
   ]
  }
 ],
 "metadata": {
  "kernelspec": {
   "display_name": "base",
   "language": "python",
   "name": "python3"
  },
  "language_info": {
   "codemirror_mode": {
    "name": "ipython",
    "version": 3
   },
   "file_extension": ".py",
   "mimetype": "text/x-python",
   "name": "python",
   "nbconvert_exporter": "python",
   "pygments_lexer": "ipython3",
   "version": "3.8.5"
  }
 },
 "nbformat": 4,
 "nbformat_minor": 2
}
