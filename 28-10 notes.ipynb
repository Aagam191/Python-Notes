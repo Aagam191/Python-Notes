{
 "cells": [
  {
   "cell_type": "code",
   "execution_count": null,
   "metadata": {},
   "outputs": [],
   "source": [
    "x=6\n",
    "not(x)"
   ]
  },
  {
   "cell_type": "markdown",
   "metadata": {},
   "source": [
    "\n",
    "The false values are 0,none,false,emptyString"
   ]
  },
  {
   "cell_type": "markdown",
   "metadata": {},
   "source": [
    "# MemberShip Operator"
   ]
  },
  {
   "cell_type": "code",
   "execution_count": null,
   "metadata": {},
   "outputs": [],
   "source": []
  },
  {
   "cell_type": "code",
   "execution_count": null,
   "metadata": {},
   "outputs": [],
   "source": [
    "'p'  in 'python'"
   ]
  },
  {
   "cell_type": "code",
   "execution_count": null,
   "metadata": {},
   "outputs": [],
   "source": [
    "0 or 'hello ' and 1"
   ]
  },
  {
   "cell_type": "markdown",
   "metadata": {},
   "source": [
    "### WAP TO FIND THE AREA OF A TRIANGLE"
   ]
  },
  {
   "cell_type": "code",
   "execution_count": 3,
   "metadata": {},
   "outputs": [
    {
     "name": "stdout",
     "output_type": "stream",
     "text": [
      "Enter number5\n",
      "ENter Number5\n",
      "Enter number5\n",
      "Area Of Trianagle with parameters a= 5.0 b= 5.0 c= 5.0  is 10.825317547305483\n"
     ]
    }
   ],
   "source": [
    "side1=float(input(\"Enter number\"))\n",
    "side2=float(input(\"ENter Number\"))\n",
    "side3=float(input(\"Enter number\"))\n",
    "semiperimeter=(side1+side2+side3)/2\n",
    "area=(semiperimeter*(semiperimeter-side1)*(semiperimeter-side2)*(semiperimeter-side3))**0.5\n",
    "print(\"Area Of Trianagle with parameters a=\",side1,\"b=\",side2,\"c=\",side3,\" is\", area)"
   ]
  },
  {
   "cell_type": "markdown",
   "metadata": {},
   "source": [
    "## WAP to convert given no of days into years months and days"
   ]
  },
  {
   "cell_type": "code",
   "execution_count": 12,
   "metadata": {},
   "outputs": [
    {
     "name": "stdout",
     "output_type": "stream",
     "text": [
      "Enter no of Days398\n",
      "Year= 1\n",
      "Month= 1\n",
      "Days= 3\n"
     ]
    }
   ],
   "source": [
    "no_of_days=int(input(\"Enter no of Days\"))\n",
    "year=(int)(no_of_days/365)\n",
    "no_of_days=days=no_of_days%365\n",
    "month=(int)(no_of_days/30)\n",
    "no_of_days=no_of_days%30\n",
    "print(\"Year/s=\",year)\n",
    "print(\"Month/s=\",month)\n",
    "print(\"Day/s=\",no_of_days)"
   ]
  },
  {
   "cell_type": "code",
   "execution_count": null,
   "metadata": {},
   "outputs": [],
   "source": []
  }
 ],
 "metadata": {
  "kernelspec": {
   "display_name": "Python 3",
   "language": "python",
   "name": "python3"
  },
  "language_info": {
   "codemirror_mode": {
    "name": "ipython",
    "version": 3
   },
   "file_extension": ".py",
   "mimetype": "text/x-python",
   "name": "python",
   "nbconvert_exporter": "python",
   "pygments_lexer": "ipython3",
   "version": "3.8.5"
  }
 },
 "nbformat": 4,
 "nbformat_minor": 4
}
