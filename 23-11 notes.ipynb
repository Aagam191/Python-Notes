{
 "cells": [
  {
   "cell_type": "markdown",
   "metadata": {},
   "source": [
    "## Tribonacci Series"
   ]
  },
  {
   "cell_type": "code",
   "execution_count": 23,
   "metadata": {},
   "outputs": [
    {
     "name": "stdout",
     "output_type": "stream",
     "text": [
      "5768\n"
     ]
    }
   ],
   "source": [
    "a=0\n",
    "b=0\n",
    "c=1\n",
    "num=int(input(\"till nth element\"))\n",
    "\n",
    "for i in range(1,num-3+1):\n",
    "\n",
    "    sum=a+b+c\n",
    "    a=b\n",
    "    b=c\n",
    "    c=sum\n",
    "print(sum)\n",
    "\n"
   ]
  },
  {
   "cell_type": "markdown",
   "metadata": {},
   "source": [
    "## Amicable number\n",
    "This numbers are pair of number whose factors and accordingly their sum Is the other number in the pair "
   ]
  },
  {
   "cell_type": "code",
   "execution_count": 56,
   "metadata": {},
   "outputs": [
    {
     "name": "stdout",
     "output_type": "stream",
     "text": [
      "The numbers are amicable=1184 and 1210\n"
     ]
    }
   ],
   "source": [
    "\n",
    "# for i in range(1,5):\n",
    "#     for j in range(i,5):\n",
    "def amicable(i,j):\n",
    "    sum1=0\n",
    "    sum2=0\n",
    "    for k in range(1,i):\n",
    "        if(i%k==0):     \n",
    "             sum1=sum1+k\n",
    "   \n",
    "    for h in range(1,j):\n",
    "        if(j%h==0):\n",
    "         sum2=sum2+h\n",
    "   \n",
    "    if sum2==i:\n",
    "        if(sum1==j):\n",
    "            print(f'The numbers are amicable={i} and {j}')\n",
    "start=int(input(\"Enter start\"))\n",
    "end=int(input(\"Enter end\"))\n",
    "for i in range(start,end):\n",
    "    for j in range(i+1,end+1):\n",
    "        amicable(i,j)\n"
   ]
  },
  {
   "cell_type": "markdown",
   "metadata": {},
   "source": [
    "#### Wap that computes the net amount of bank account based on a transaction logfrom console \n"
   ]
  },
  {
   "cell_type": "code",
   "execution_count": null,
   "metadata": {},
   "outputs": [],
   "source": []
  },
  {
   "cell_type": "markdown",
   "metadata": {},
   "source": [
    "## Pronic Numbers"
   ]
  },
  {
   "cell_type": "code",
   "execution_count": 60,
   "metadata": {},
   "outputs": [
    {
     "name": "stdout",
     "output_type": "stream",
     "text": [
      "1 X 2 = 2\n",
      "2 X 3 = 6\n",
      "3 X 4 = 12\n",
      "4 X 5 = 20\n",
      "5 X 6 = 30\n",
      "6 X 7 = 42\n",
      "7 X 8 = 56\n",
      "8 X 9 = 72\n",
      "9 X 10 = 90\n",
      "10 X 11 = 110\n"
     ]
    }
   ],
   "source": [
    "n=10\n",
    "j=0\n",
    "for i in range(1,n+1):\n",
    "    j=i+1\n",
    "    print(f'{i} X {j} = {i*j}')"
   ]
  },
  {
   "cell_type": "markdown",
   "metadata": {},
   "source": [
    "### Pattern\n"
   ]
  },
  {
   "cell_type": "code",
   "execution_count": 68,
   "metadata": {},
   "outputs": [
    {
     "name": "stdout",
     "output_type": "stream",
     "text": [
      "  *    *    *    *    *  \n",
      " ***  ***  ***  ***  *** \n",
      "*************************\n"
     ]
    }
   ],
   "source": [
    "\n",
    "def printPatt(n):\n",
    "\n",
    "\tk1 = 3; k2 = 3; gap = 5;\n",
    "\n",
    "\t\n",
    "\tfor i in range(1, 4):\n",
    "\n",
    "\t\n",
    "\t\tfor j in range(1, (5 * n) + 1):\n",
    "\n",
    "\t\t\tif (j > k2 and i < 3):\n",
    "\t\t\t\tk2 += gap;\n",
    "\t\t\t\tk1 += gap;\n",
    "\t\t\t\n",
    "\t\n",
    "\t\t\tif (j >= k1 and j <= k2):\n",
    "\t\t\t\tprint(\"*\", end = \"\");\n",
    "\t\t\telse:\n",
    "\t\t\t\tprint(\" \", end = \"\");\n",
    "\t\tprint(\"\\n\", end = \"\");\n",
    "\t\t\t\n",
    "\t\t\n",
    "\t\tif (i + 1 == 3):\n",
    "\t\t\tk1 = 1;\n",
    "\t\t\tk2 = (5 * n);\n",
    "\t\t\n",
    "\t\telse:\n",
    "\t\t\tk1 = 3;\n",
    "\t\t\tk2 = 3;\n",
    "\t\t\tk1 -= 1;\n",
    "\t\t\tk2 += 1;\n",
    "\tprint(end = \"\");\n",
    "\t\n",
    "\n",
    "N = 5;\n",
    "\n",
    "\n",
    "printPatt(N);\n",
    "\n",
    "\n",
    "                                                                 "
   ]
  },
  {
   "cell_type": "code",
   "execution_count": 76,
   "metadata": {},
   "outputs": [
    {
     "name": "stdout",
     "output_type": "stream",
     "text": [
      "* \n",
      "* * \n",
      "* * * \n",
      "* * * * \n",
      "* * * * * \n",
      "* * * * * * \n"
     ]
    }
   ],
   "source": [
    "n=6\n",
    "for i in range(1,n+1):\n",
    "    for j in range(1,i+1):\n",
    "        print(\"*\",end=\" \")\n",
    "    print(\"\")"
   ]
  },
  {
   "cell_type": "code",
   "execution_count": 83,
   "metadata": {},
   "outputs": [
    {
     "name": "stdout",
     "output_type": "stream",
     "text": [
      "* * * * *  \n",
      "* * * *  \n",
      "* * *  \n",
      "* *  \n",
      "*  \n",
      " \n"
     ]
    }
   ],
   "source": [
    "n=6\n",
    "for i in range(1,n+1):\n",
    "    for j in range(i,n):\n",
    "        \n",
    "        print(\"*\",end=\" \")\n",
    "    print(\" \",sep=\" \")"
   ]
  },
  {
   "cell_type": "code",
   "execution_count": 82,
   "metadata": {},
   "outputs": [
    {
     "name": "stdout",
     "output_type": "stream",
     "text": [
      "Help on built-in function print in module builtins:\n",
      "\n",
      "print(...)\n",
      "    print(value, ..., sep=' ', end='\\n', file=sys.stdout, flush=False)\n",
      "    \n",
      "    Prints the values to a stream, or to sys.stdout by default.\n",
      "    Optional keyword arguments:\n",
      "    file:  a file-like object (stream); defaults to the current sys.stdout.\n",
      "    sep:   string inserted between values, default a space.\n",
      "    end:   string appended after the last value, default a newline.\n",
      "    flush: whether to forcibly flush the stream.\n",
      "\n"
     ]
    }
   ],
   "source": [
    "help(print)"
   ]
  }
 ],
 "metadata": {
  "kernelspec": {
   "display_name": "base",
   "language": "python",
   "name": "python3"
  },
  "language_info": {
   "codemirror_mode": {
    "name": "ipython",
    "version": 3
   },
   "file_extension": ".py",
   "mimetype": "text/x-python",
   "name": "python",
   "nbconvert_exporter": "python",
   "pygments_lexer": "ipython3",
   "version": "3.8.5"
  }
 },
 "nbformat": 4,
 "nbformat_minor": 2
}
